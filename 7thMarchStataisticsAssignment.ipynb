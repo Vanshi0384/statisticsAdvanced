{
 "cells": [
  {
   "cell_type": "code",
   "execution_count": null,
   "id": "ada6e8fa-afb7-400e-adeb-3a511337006f",
   "metadata": {},
   "outputs": [],
   "source": [
    "#answer1:\n",
    "#three meaures of central tendency are mean(average, mode and median\n"
   ]
  },
  {
   "cell_type": "code",
   "execution_count": null,
   "id": "b8c51025-5e62-4a5b-8e2f-e9574a5c5e1f",
   "metadata": {},
   "outputs": [],
   "source": [
    "#answer 2:\n",
    "#Mean is the average of all the values and its formula is given by - summation(i = 1,n) xi/n\n",
    "\n",
    "#Mode: it is the max occuring value in a dataset, it is best used when some categorical data is missing.\n",
    "\n",
    "#Median- it is basically the middle value( when we have odd number of values) and avg of two middle values( in case of even no of values)\n",
    "# and is useful in finding cntral tendency when outliers are present."
   ]
  },
  {
   "cell_type": "code",
   "execution_count": null,
   "id": "44452a69-643c-485c-81ac-b72ebb78d4b1",
   "metadata": {},
   "outputs": [],
   "source": [
    "#answer 3:\n",
    "# measures of central tendency are as follows:\n",
    "#Mean:177.01\n",
    "#Mode: 177\n",
    "#median:177"
   ]
  },
  {
   "cell_type": "code",
   "execution_count": null,
   "id": "92108f9a-e10d-4c4b-8fd1-5f31fccd6cc7",
   "metadata": {},
   "outputs": [],
   "source": [
    "#anser 4:\n",
    "#standard deviation = 1.789"
   ]
  },
  {
   "cell_type": "code",
   "execution_count": null,
   "id": "2fab7e6f-f231-4f65-a167-bf9535b10c39",
   "metadata": {},
   "outputs": [],
   "source": [
    "#answer 5:\n",
    "# Measures of dispersion are statistical tools used to quantify how spread out the data points are in a dataset relative to the central tendency.\n",
    "#Range: : It's the simplest measure of dispersion. It's calculated by subtracting the minimum value from the maximum value in the dataset.\n",
    " #A larger range indicates a wider spread of data points, while a smaller range suggests the data points are closer together.\n",
    "    \n",
    "#Variance:It measures the average squared deviation of each data point from the mean. It represents how much, on average, the data points vary from the central tendency.\n",
    "#A higher variance indicates a larger spread of data points from the mean, while a lower variance suggests the data points are clustered closer to the mean.\n",
    "\n",
    "#Standard Deviation:  It's the square root of the variance. It expresses the spread of the data in the same units as the original data, making it easier to interpret compared to variance.\n",
    "# Similar to variance, a higher standard deviation indicates a larger spread of data points from the mean, while a lower standard deviation suggests the data points are closer to the mean.\n",
    "\n",
    "#eg: Consider a dataset representing exam scores of 20 students:\n",
    "\n",
    "# Scores: [80, 75, 90, 85, 100, 95, 88, 70, 92, 82, 87, 78, 98, 89, 72, 94, 84, 79, 81, 76]\n",
    "# Range: 100 - 70 = 30 (The highest score is 100, and the lowest is 70.)\n",
    "# Variance: (Calculated using statistical software or formulas) = 57.64\n",
    "# Standard Deviation: √57.64 ≈ 7.6 (Square root of variance)\n",
    "# Interpretation:\n",
    "\n",
    "# The range of 30 tells us there's a spread of 30 points between the highest and lowest scores.\n",
    "# The variance of 57.64 indicates that, on average, the scores deviate from the mean by 57.64 points squared. While higher than zero, it doesn't directly tell us how spread out the scores are.\n",
    "# The standard deviation of 7.6 provides a clearer picture. Scores tend to vary from the mean by an average of 7.6 points."
   ]
  },
  {
   "cell_type": "code",
   "execution_count": null,
   "id": "5f8001d3-0636-47f1-bee9-857957074dd5",
   "metadata": {},
   "outputs": [],
   "source": [
    "# answer 6:\n",
    "\n",
    "# A Venn diagram is a widely used illustration that visually represents the logical relationships between sets.\n",
    "\n",
    "    "
   ]
  },
  {
   "cell_type": "code",
   "execution_count": null,
   "id": "6fc77e6e-6e49-40b7-aa8a-d3cdc52fd0a9",
   "metadata": {},
   "outputs": [],
   "source": [
    "# answer 7:\n",
    "# (i) (2,6)\n",
    "# (ii) (0,2,3,4,5,6,7,8,10) "
   ]
  },
  {
   "cell_type": "code",
   "execution_count": null,
   "id": "999f6d81-a908-48af-a261-93f2fa0da80b",
   "metadata": {},
   "outputs": [],
   "source": [
    "# answer 8\n",
    "# Skewness refers to the asymmetry in a distribution of data points.\n",
    "# It describes how the data is spread out around the mean (average) and whether one side of the distribution has a \"longer tail\" than the other. "
   ]
  },
  {
   "cell_type": "code",
   "execution_count": null,
   "id": "6502738a-e803-41cf-a333-efb434114380",
   "metadata": {},
   "outputs": [],
   "source": [
    "# answer 9:\n",
    "# In a right-skewed data distribution, the median will be less than the mean."
   ]
  },
  {
   "cell_type": "code",
   "execution_count": null,
   "id": "8214bd49-61cc-462c-9d10-b2d68c6d9555",
   "metadata": {},
   "outputs": [],
   "source": [
    "#answer 10:\n",
    "#COVARIANCE:\n",
    "#Covariance measures the direction and magnitude of the linear relationship between two variables.\n",
    "#Positive covariance: Indicates both variables tend to move in the same direction. As one variable increases, the other tends to increase as well (or vice versa if both decrease).\n",
    "#Negative covariance: Indicates the variables move in opposite directions. As one variable increases, the other tends to decrease (and vice versa).\n",
    "#Zero covariance: Doesn't necessarily imply no relationship. It could mean no linear relationship, or a non-linear relationship exists.\n",
    "\n",
    "#CORRELATION:\n",
    "# Correlation measures the strength and direction of the linear relationship between two variables. It's a standardized version of covariance.\n",
    "#Positive correlation: Indicates a positive linear relationship. The stronger the correlation (closer to +1), the more closely the two variables tend to move together in the same direction.\n",
    "#Negative correlation: Indicates a negative linear relationship. The stronger the correlation (closer to -1), the more closely the variables tend to move in opposite directions.\n",
    "#Zero correlation: Indicates no linear relationship between the variables. However, a non-linear relationship might still exist.\n"
   ]
  },
  {
   "cell_type": "code",
   "execution_count": null,
   "id": "b00310a3-a2b2-4e36-afa4-e49a347a32aa",
   "metadata": {},
   "outputs": [],
   "source": [
    "# ANSWER 11:\n",
    "# The formula for calculating the sample mean is:\n",
    "\n",
    "# Sample Mean (x̄) = Σ(xi) / n\n",
    "\n",
    "# where:\n",
    "Correlation measures the strength and direction of the linear relationship between two variables. It's a standardized version of covariance.\n",
    "# Σ (sigma): Represents summation over all data points (xi).\n",
    "# xi: Represents each data point in the sample.\n",
    "# n: Represents the total number of data points in the sample.\n",
    "\n",
    "# ex-\n",
    "# Data: {2, 5, 7, 10, 3}\n",
    "# Σ(xi): Add up all the data points: 2 + 5 + 7 + 10 + 3 = 27\n",
    "# n: The total number of data points is 5.\n",
    "# Sample Mean (x̄): Apply the formula: x̄ = 27 / 5 = 5.4\n",
    "# Therefore, the sample mean of the data set {2, 5, 7, 10, 3} is 5.4. This represents the average value of all the data points in the sample."
   ]
  },
  {
   "cell_type": "code",
   "execution_count": null,
   "id": "b0fcc462-b936-44a1-8e8b-5bffcb3aebac",
   "metadata": {},
   "outputs": [],
   "source": [
    "# answer 12\n",
    "# For a normal distribution of data, Mean = Mode = Median."
   ]
  },
  {
   "cell_type": "code",
   "execution_count": null,
   "id": "3c5fdd4e-709d-49a3-9b06-58c36f8dd944",
   "metadata": {},
   "outputs": [],
   "source": [
    "# answer 13\n",
    "# Covariance measures the direction and magnitude of the linear relationship between two variables, while\n",
    "# Correlation measures the strength and direction of the linear relationship between two variables. It's a standardized version of covariance."
   ]
  },
  {
   "cell_type": "code",
   "execution_count": null,
   "id": "79418d55-d248-4755-a4a5-57401d4ef47a",
   "metadata": {},
   "outputs": [],
   "source": [
    "# answer 14:\n",
    "# Outliers and Their Impact on Measures of Central Tendency and Dispersion\n",
    "# Outliers are data points that fall significantly outside the overall pattern of the distribution. \n",
    "# They can significantly affect measures of central tendency :\n",
    "# Mean: Outliers have the most significant impact on the mean. An extreme outlier, especially a high one, can pull the mean away from the majority of the data points.\n",
    "# Median: The median is less affected by outliers compared to the mean. As it represents the \"middle\" value, a single outlier on either side might not significantly shift the median.\n",
    "# Mode: The mode (most frequent value) is generally not affected by outliers unless the outlier itself becomes the most frequent value.\n"
   ]
  }
 ],
 "metadata": {
  "kernelspec": {
   "display_name": "Python 3 (ipykernel)",
   "language": "python",
   "name": "python3"
  },
  "language_info": {
   "codemirror_mode": {
    "name": "ipython",
    "version": 3
   },
   "file_extension": ".py",
   "mimetype": "text/x-python",
   "name": "python",
   "nbconvert_exporter": "python",
   "pygments_lexer": "ipython3",
   "version": "3.10.8"
  }
 },
 "nbformat": 4,
 "nbformat_minor": 5
}
